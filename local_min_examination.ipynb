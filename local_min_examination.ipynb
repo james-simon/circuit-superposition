{
 "cells": [
  {
   "cell_type": "code",
   "execution_count": 1,
   "metadata": {},
   "outputs": [],
   "source": [
    "import copy\n",
    "import time\n",
    "import pickle\n",
    "from collections import Counter \n",
    "from itertools import chain\n",
    "\n",
    "import matplotlib.pyplot as plt\n",
    "import numpy as np\n",
    "\n",
    "import torch\n",
    "import torch.nn as nn\n",
    "import torch.nn.functional as F\n",
    "import torch.optim as optim\n",
    "from torch.autograd import Variable as Variable\n",
    "\n",
    "import torchvision\n",
    "import torchvision.transforms as transforms"
   ]
  },
  {
   "cell_type": "code",
   "execution_count": 2,
   "metadata": {},
   "outputs": [],
   "source": [
    "last_time = None\n",
    "\n",
    "def start_time():\n",
    "    global last_time\n",
    "    last_time = time.time()\n",
    "def take_time():\n",
    "    global last_time\n",
    "    new_time = time.time()\n",
    "    print(\"time:\", new_time - last_time)\n",
    "    last_time = new_time"
   ]
  },
  {
   "cell_type": "code",
   "execution_count": 3,
   "metadata": {},
   "outputs": [],
   "source": [
    "def freq_dict(list):\n",
    "    \n",
    "    freq = {}\n",
    "    for item in list:\n",
    "        if (item in freq):\n",
    "            freq[item] += 1\n",
    "        else:\n",
    "            freq[item] = 1\n",
    "    return(freq)\n",
    "\n",
    "def clip(x, a=0, b=1):\n",
    "    return(torch.max(torch.min(x, 0*x + b), 0*x + a))"
   ]
  },
  {
   "cell_type": "code",
   "execution_count": 4,
   "metadata": {},
   "outputs": [],
   "source": [
    "def circuit_output(b, c, print_stuff=False):\n",
    "#     print(b, c)\n",
    "    \n",
    "    n_strings = len(b[0])\n",
    "    \n",
    "    gate_i = 0\n",
    "    cur_width = b.size()[0]\n",
    "    \n",
    "    while cur_width > 1:\n",
    "        if print_stuff:\n",
    "            print(cur_width)\n",
    "            print(b)\n",
    "        \n",
    "        cur_width = round(cur_width/2)\n",
    "        outputs = torch.zeros(cur_width, n_strings)\n",
    "\n",
    "        for out_i in range(cur_width):\n",
    "            in_i1 = out_i*2\n",
    "            in_i2 = out_i*2 + 1\n",
    "\n",
    "            outputs[out_i] = (1 - c[gate_i])*(1 - (1 - b[in_i1])*(1 - b[in_i2])) + c[gate_i]*b[in_i1]*b[in_i2]\n",
    "            \n",
    "            gate_i += 1\n",
    "\n",
    "        b = outputs\n",
    "    \n",
    "    return(b[0])"
   ]
  },
  {
   "cell_type": "code",
   "execution_count": 5,
   "metadata": {},
   "outputs": [],
   "source": [
    "def choose_target(n_bits):\n",
    "    global c\n",
    "    c = 1.*(torch.rand(n_bits - 1) > .5)\n",
    "\n",
    "    while True:\n",
    "        c = 1.*(torch.randn(n_bits - 1) > 0)\n",
    "        outputs = [circuit_output(1.*(torch.randn(n_bits, 1) > 0), c) for i in range(1000)]\n",
    "#         print(sum(outputs))\n",
    "        if sum(outputs) > 400 and sum(outputs) < 600:\n",
    "            break\n",
    "            \n",
    "    outputs = [circuit_output(1.*(torch.randn(n_bits, 1) > 0), c) for i in range(1000)]\n",
    "    print(\"average output of\", sum(outputs).item()/1000)\n",
    "    print(c)\n",
    "    return(c)"
   ]
  },
  {
   "cell_type": "code",
   "execution_count": 6,
   "metadata": {},
   "outputs": [],
   "source": [
    "def generate_all_binary_vectors(n_bits, array_so_far=None):\n",
    "    if array_so_far == None:\n",
    "        array_so_far = []\n",
    "#     print(n_bits, array_so_far)\n",
    "    if n_bits == 0:\n",
    "        return([array_so_far.copy()])\n",
    "    \n",
    "    outputs = []\n",
    "    \n",
    "    array_so_far += [0]\n",
    "    outputs += generate_all_binary_vectors(n_bits - 1, array_so_far)\n",
    "    \n",
    "    array_so_far[len(array_so_far) - 1] = 1\n",
    "    outputs += generate_all_binary_vectors(n_bits - 1, array_so_far)\n",
    "    \n",
    "    del array_so_far[-1]\n",
    "    \n",
    "    return(outputs)\n",
    "\n",
    "def generate_random_binary_vectors(n_bits, n):\n",
    "    return(1.*(torch.rand((n, n_bits)) > .5))"
   ]
  },
  {
   "cell_type": "markdown",
   "metadata": {},
   "source": [
    "## Choose target vectors"
   ]
  },
  {
   "cell_type": "code",
   "execution_count": 32,
   "metadata": {},
   "outputs": [
    {
     "name": "stdout",
     "output_type": "stream",
     "text": [
      "average output of 0.579\n",
      "tensor([0., 0., 1.])\n",
      "average output of 0.435\n",
      "tensor([0., 0., 0., 1., 1., 0., 1.])\n",
      "average output of 0.579\n",
      "tensor([1., 1., 0., 1., 0., 0., 1., 1., 0., 1., 1., 1., 0., 1., 0.])\n",
      "average output of 0.546\n",
      "tensor([1., 1., 1., 1., 0., 0., 1., 1., 0., 0., 0., 0., 1., 1., 0., 1., 0., 0.,\n",
      "        0., 1., 1., 0., 0., 1., 1., 0., 1., 1., 0., 0., 1.])\n"
     ]
    }
   ],
   "source": [
    "lengths = [4, 8, 16, 32]\n",
    "cs = {}\n",
    "for n_bits in lengths:\n",
    "    cs[n_bits] = choose_target(n_bits)"
   ]
  },
  {
   "cell_type": "markdown",
   "metadata": {},
   "source": [
    "## Check for local minima"
   ]
  },
  {
   "cell_type": "code",
   "execution_count": 9,
   "metadata": {},
   "outputs": [],
   "source": [
    "def bitstring_neighbors(b):\n",
    "    neighbors = torch.cat((b,)*len(b[0]))\n",
    "    neighbors = neighbors + torch.eye(len(b[0]))\n",
    "    neighbors %= 2\n",
    "    return(neighbors)\n",
    "\n",
    "def binary_to_decimal(b):\n",
    "    nb = len(b[0])\n",
    "    x = torch.Tensor([[2**k for k in range(nb - 1, -1, -1)]])\n",
    "    output = torch.mm(1.*b, 1.*torch.t(x))\n",
    "    return(output.long())\n",
    "\n",
    "def is_local_min(b, errors, strict=True):\n",
    "    error = errors[binary_to_decimal(b).view(-1)[0]]\n",
    "    neighbors = bitstring_neighbors(b)\n",
    "    neighbor_is = binary_to_decimal(neighbors).view(-1).tolist()\n",
    "    neighbor_errors = errors[neighbor_is]\n",
    "    min_neighbor_error = min(neighbor_errors)\n",
    "    \n",
    "    if error < min_neighbor_error:\n",
    "        return(True)\n",
    "    elif error == min_neighbor_error:\n",
    "        if strict:\n",
    "            return(False)\n",
    "        return(True)\n",
    "    return(False)\n",
    "\n",
    "def get_equivalent_neighbors_if_min(b, errors):\n",
    "    error = errors[binary_to_decimal(b).view(-1)[0]]\n",
    "    neighbors = bitstring_neighbors(b)\n",
    "    neighbor_is = binary_to_decimal(neighbors).view(-1).tolist() + binary_to_decimal(b)[0].tolist()\n",
    "    neighbor_errors = errors[neighbor_is]\n",
    "    min_neighbor_error = min(neighbor_errors)\n",
    "    \n",
    "    if min_neighbor_error < error:\n",
    "        return(set())\n",
    "    \n",
    "    output = set()\n",
    "    for i in range(len(neighbor_is)):\n",
    "        if neighbor_errors[i] == error:\n",
    "            output.add(neighbor_is[i])\n",
    "    return(output)"
   ]
  },
  {
   "cell_type": "code",
   "execution_count": 33,
   "metadata": {},
   "outputs": [],
   "source": [
    "n_bits = 8\n",
    "redundancy = 1\n",
    "n_gates = redundancy*n_bits - 1\n",
    "\n",
    "c = cs[n_bits]\n",
    "# c = torch.Tensor([0, 0, 1])\n",
    "# c = torch.Tensor([0, 0, 0, 0, 1, 1, 0])\n",
    "# c = torch.Tensor([0, 0, 0, 0, 0, 0, 0, 0, 1, 1, 1, 1, 1, 1, 1])\n",
    "\n",
    "data = torch.tensor(generate_all_binary_vectors(n_bits))\n",
    "if redundancy > 1:\n",
    "    data = torch.cat((data,)*redundancy, dim=1)\n",
    "\n",
    "circuits = torch.tensor(generate_all_binary_vectors(n_gates))\n",
    "\n",
    "errors = torch.zeros(len(circuits))\n",
    "for i in range(len(circuits)):\n",
    "    output = circuit_output(torch.t(data), circuits[i])\n",
    "    target = circuit_output(torch.t(data), c)\n",
    "    errors[i] = sum(abs(output - target))\n",
    "\n",
    "# local_min = torch.Tensor([[0, 1, 0, 0, 0, 0, 0, 0, 0, 0, 0, 0, 1, 1, 1]])\n",
    "# neighbor_is = binary_to_decimal(bitstring_neighbors(local_min))\n",
    "# print(errors[binary_to_decimal(local_min)])\n",
    "# [errors[n_i] for n_i in neighbor_is]"
   ]
  },
  {
   "cell_type": "markdown",
   "metadata": {},
   "source": [
    "### Find single local mins"
   ]
  },
  {
   "cell_type": "code",
   "execution_count": 34,
   "metadata": {},
   "outputs": [
    {
     "name": "stdout",
     "output_type": "stream",
     "text": [
      "13 tensor([0, 0, 0, 1, 1, 0, 1]) tensor(0.)\n",
      "30 tensor([0, 0, 1, 1, 1, 1, 0]) tensor(34.)\n",
      "35 tensor([0, 1, 0, 0, 0, 1, 1]) tensor(72.)\n",
      "41 tensor([0, 1, 0, 1, 0, 0, 1]) tensor(52.)\n",
      "67 tensor([1, 0, 0, 0, 0, 1, 1]) tensor(72.)\n",
      "73 tensor([1, 0, 0, 1, 0, 0, 1]) tensor(52.)\n",
      "108 tensor([1, 1, 0, 1, 1, 0, 0]) tensor(94.)\n"
     ]
    }
   ],
   "source": [
    "for i in range(len(circuits)):\n",
    "    if is_local_min(circuits[i:(i + 1)], errors, strict=True):\n",
    "        print(i, circuits[i], errors[i])"
   ]
  },
  {
   "cell_type": "markdown",
   "metadata": {},
   "source": [
    "### Find local min clusters"
   ]
  },
  {
   "cell_type": "code",
   "execution_count": 35,
   "metadata": {},
   "outputs": [
    {
     "name": "stdout",
     "output_type": "stream",
     "text": [
      "1 zero clusters with sizes [1]\n",
      "6 min clusters with sizes [1, 1, 1, 1, 1, 1] and errors [52.0, 72.0, 52.0, 34.0, 94.0, 72.0]\n",
      "['', '', '', '', '', '', '', '', '', '', '', '', '', '13', '', '', '', '', '', '', '', '', '', '', '', '', '', '', '', '', '30', '', '', '', '', '35', '', '', '', '', '', '41', '', '', '', '', '', '', '', '', '', '', '', '', '', '', '', '', '', '', '', '', '', '', '', '', '', '67', '', '', '', '', '', '73', '', '', '', '', '', '', '', '', '', '', '', '', '', '', '', '', '', '', '', '', '', '', '', '', '', '', '', '', '', '', '', '', '', '', '108', '', '', '', '', '', '', '', '', '', '', '', '', '', '', '', '', '', '', '']\n",
      "[set(), set(), set(), set(), set(), set(), set(), set(), set(), set(), set(), set(), set(), {13}, set(), set(), set(), set(), set(), set(), set(), set(), set(), set(), set(), set(), set(), set(), set(), set(), {30}, set(), set(), set(), set(), {35}, set(), set(), set(), set(), set(), {41}, set(), set(), set(), set(), set(), set(), set(), set(), set(), set(), set(), set(), set(), set(), set(), set(), set(), set(), set(), set(), set(), set(), set(), set(), set(), {67}, set(), set(), set(), set(), set(), {73}, set(), set(), set(), set(), set(), set(), set(), set(), set(), set(), set(), set(), set(), set(), set(), set(), set(), set(), set(), set(), set(), set(), set(), set(), set(), set(), set(), set(), set(), set(), set(), set(), set(), set(), {108}, set(), set(), set(), set(), set(), set(), set(), set(), set(), set(), set(), set(), set(), set(), set(), set(), set(), set(), set()]\n"
     ]
    }
   ],
   "source": [
    "cohort_is = [get_equivalent_neighbors_if_min(circuits[i:(i + 1)], errors) for i in range(len(circuits))]\n",
    "\n",
    "original_cohort_is = copy.deepcopy(cohort_is)\n",
    "\n",
    "for run in range(20):\n",
    "    for i in range(len(circuits)):\n",
    "        set_i = cohort_is[i]\n",
    "        for j in set_i:\n",
    "            if cohort_is[j] == set():\n",
    "                cohort_is[i] = set()\n",
    "                break\n",
    "\n",
    "cluster_ids = [str(i) for i in range(len(circuits))]\n",
    "for run in range(20):\n",
    "    for i in range(len(circuits)):\n",
    "        if cohort_is[i] == set():\n",
    "            cluster_ids[i] = ''\n",
    "        else:\n",
    "            for j in cohort_is[i]:\n",
    "                cluster_ids[j] = cluster_ids[i]\n",
    "\n",
    "zero_cluster_ids = set()\n",
    "min_cluster_ids = set()\n",
    "for ci in set(cluster_ids):\n",
    "    if ci != '':\n",
    "        if errors[int(ci)] == 0:\n",
    "            zero_cluster_ids.add(ci)\n",
    "        else:\n",
    "            min_cluster_ids.add(ci)\n",
    "\n",
    "cluster_size_dict = freq_dict(cluster_ids)\n",
    "min_cluster_errors = [errors[int(ci)].item() for ci in min_cluster_ids]\n",
    "min_cluster_sizes = [cluster_size_dict[mci] for mci in min_cluster_ids]\n",
    "zero_cluster_sizes = [cluster_size_dict[zci] for zci in zero_cluster_ids]\n",
    "            \n",
    "print(str(len(set(zero_cluster_ids))) + \" zero clusters with sizes \" + str(zero_cluster_sizes))\n",
    "print(str(len(set(min_cluster_ids))) + \" min clusters with sizes \" + str(min_cluster_sizes) + \" and errors \" + str(min_cluster_errors))\n",
    "\n",
    "print(cluster_ids)\n",
    "print(cohort_is)\n"
   ]
  },
  {
   "cell_type": "markdown",
   "metadata": {},
   "source": [
    "## Explore the neighborhood of a vertex"
   ]
  },
  {
   "cell_type": "code",
   "execution_count": 57,
   "metadata": {},
   "outputs": [
    {
     "name": "stdout",
     "output_type": "stream",
     "text": [
      "tensor(34.)\n",
      "[88.0, 88.0, 48.0, 48.0, 34.0, 34.0, 34.0, 34.0, 124.0, 76.0, 34.0, 34.0, 108.0, 34.0, 116.0]\n"
     ]
    }
   ],
   "source": [
    "n_bits = 16\n",
    "redundancy = 2\n",
    "n_gates = redundancy*n_bits - 1\n",
    "\n",
    "c = cs[n_bits]\n",
    "\n",
    "data = torch.tensor(generate_all_binary_vectors(n_bits))\n",
    "data_r = torch.cat((data,)*redundancy, dim=1)\n",
    "    \n",
    "x = torch.tensor([[0, 0, 1, 1, 1, 1, 0]])\n",
    "x = torch.tensor([[0, 0, 1, 1, 1, 1, 1, 1, 1, 1, 1, 1, 0, 1, 0]])\n",
    "\n",
    "output = circuit_output(torch.t(data_r), x[0])\n",
    "target = circuit_output(torch.t(data), c)\n",
    "print(sum(abs(output - target)))\n",
    "    \n",
    "neighbors = bitstring_neighbors(x)\n",
    "neighbor_errors = []\n",
    "for i in range(len(neighbors)):\n",
    "    neighbor = neighbors[i]\n",
    "    output = circuit_output(torch.t(data_r), neighbor)\n",
    "    neighbor_errors.append(sum(abs(output - target)).item())\n",
    "\n",
    "print(neighbor_errors)"
   ]
  },
  {
   "cell_type": "code",
   "execution_count": 45,
   "metadata": {},
   "outputs": [
    {
     "data": {
      "text/plain": [
       "tensor([0., 0., 0., 1., 1., 0., 1.])"
      ]
     },
     "execution_count": 45,
     "metadata": {},
     "output_type": "execute_result"
    }
   ],
   "source": []
  },
  {
   "cell_type": "code",
   "execution_count": null,
   "metadata": {},
   "outputs": [],
   "source": []
  }
 ],
 "metadata": {
  "kernelspec": {
   "display_name": "Python 3",
   "language": "python",
   "name": "python3"
  },
  "language_info": {
   "codemirror_mode": {
    "name": "ipython",
    "version": 3
   },
   "file_extension": ".py",
   "mimetype": "text/x-python",
   "name": "python",
   "nbconvert_exporter": "python",
   "pygments_lexer": "ipython3",
   "version": "3.7.5"
  }
 },
 "nbformat": 4,
 "nbformat_minor": 2
}
